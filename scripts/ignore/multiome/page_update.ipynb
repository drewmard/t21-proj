{
 "cells": [
  {
   "cell_type": "code",
   "execution_count": 1,
   "id": "5636b3a0",
   "metadata": {},
   "outputs": [],
   "source": [
    "import scanpy as sc\n",
    "import pandas as pd\n",
    "\n",
    "idtype=\"h\"\n",
    "# idtype=\"ds\"\n",
    "modality=\"RNA\"\n",
    "\n",
    "outDir = \"/oak/stanford/groups/smontgom/amarder/neuro-variants/output/data/DS_Multiome_h_v2\"\n",
    "f = \"/oak/stanford/groups/smontgom/amarder/neuro-variants/output/data/DS_Multiome_h_v2/Multiome.\"+modality+\"_only2.\"+idtype+\".paga.h5ad\"\n",
    "\n",
    "###########\n",
    "annotations=\"subclust_v6\"\n",
    "root_node=\"HSCs\" # for DS\n",
    "if modality==\"RNA\":\n",
    "    threshold=0.1\n",
    "\n",
    "outDir = outDir + \"/\" + modality\n",
    "# outDir = outDir + \"/\" + \"ATAC\"\n",
    "try:\n",
    "    os.makedirs(outDir)\n",
    "except:\n",
    "    pass\n",
    "\n",
    "\n"
   ]
  },
  {
   "cell_type": "code",
   "execution_count": 2,
   "id": "343bc252",
   "metadata": {},
   "outputs": [
    {
     "name": "stderr",
     "output_type": "stream",
     "text": [
      "WARNING: Your filename has more than two extensions: ['.RNA_only2', '.h', '.paga', '.h5ad'].\n",
      "Only considering the two last: ['.paga', '.h5ad'].\n",
      "WARNING: Your filename has more than two extensions: ['.RNA_only2', '.h', '.paga', '.h5ad'].\n",
      "Only considering the two last: ['.paga', '.h5ad'].\n"
     ]
    }
   ],
   "source": [
    "df = sc.read(f)\n"
   ]
  },
  {
   "cell_type": "code",
   "execution_count": 3,
   "id": "c703a88d",
   "metadata": {},
   "outputs": [
    {
     "data": {
      "text/plain": [
       "AnnData object with n_obs × n_vars = 19768 × 401340\n",
       "    obs: 'nCount_ATAC', 'nFeature_ATAC', 'dataset', 'TSS.enrichment', 'TSS.percentile', 'ATAC_snn_res.1.5', 'seurat_clusters', 'cell', 'dataNum', 'cell_dataset', 'nCount_RNA', 'nFeature_RNA', 'nCount_RNA.1', 'nFeature_RNA.1', 'percent.mt', 'subclust_v5', 'subclust_v6', 'dpt_pseudotime'\n",
       "    var: 'count', 'percentile'\n",
       "    uns: 'diffmap_evals', 'draw_graph', 'iroot', 'neighbors', 'paga', 'subclust_v6_colors', 'subclust_v6_sizes'\n",
       "    obsm: 'X_diffmap', 'X_draw_graph_fa', 'X_harmony', 'X_lsi', 'X_umap'\n",
       "    layers: 'counts'\n",
       "    obsp: 'connectivities', 'distances'"
      ]
     },
     "execution_count": 3,
     "metadata": {},
     "output_type": "execute_result"
    }
   ],
   "source": [
    "df"
   ]
  },
  {
   "cell_type": "code",
   "execution_count": 20,
   "id": "0f61fc63",
   "metadata": {},
   "outputs": [],
   "source": [
    "chromvardf = pd.read_table(\"/oak/stanford/groups/smontgom/amarder/neuro-variants/output/data/DS_Multiome_h_v2/h.ChromVAR.txt\")\n",
    "chromvardf.set_index(\"Unnamed: 0\", drop = True, inplace = True)\n",
    "\n"
   ]
  },
  {
   "cell_type": "code",
   "execution_count": 44,
   "id": "4408811d",
   "metadata": {},
   "outputs": [],
   "source": [
    "chromvardf = chromvardf.loc[:,chromvardf.columns.isin(df.obs.index)]"
   ]
  },
  {
   "cell_type": "code",
   "execution_count": 53,
   "id": "5f887b96",
   "metadata": {},
   "outputs": [
    {
     "data": {
      "text/plain": [
       "array([    0, 19768])"
      ]
     },
     "execution_count": 53,
     "metadata": {},
     "output_type": "execute_result"
    }
   ],
   "source": [
    "x = chromvardf.columns == df.obs.index\n",
    "import numpy as np\n",
    "np.bincount(x)\n",
    "# double checking that everything is okay"
   ]
  },
  {
   "cell_type": "code",
   "execution_count": 122,
   "id": "953c9057",
   "metadata": {},
   "outputs": [],
   "source": [
    "chromvardf = chromvardf.T"
   ]
  },
  {
   "cell_type": "code",
   "execution_count": 59,
   "id": "3a23058e",
   "metadata": {},
   "outputs": [],
   "source": [
    "df.obsm['chromvar'] = chromvardf"
   ]
  },
  {
   "cell_type": "code",
   "execution_count": 123,
   "id": "04680735",
   "metadata": {},
   "outputs": [],
   "source": [
    "adata = sc.AnnData(chromvardf, \n",
    "    chromvardf.index.to_frame(), \n",
    "    chromvardf.columns.to_frame())\n"
   ]
  },
  {
   "cell_type": "code",
   "execution_count": 129,
   "id": "c549f0de",
   "metadata": {},
   "outputs": [],
   "source": [
    "adata.obsm = df.obsm\n",
    "adata.uns = df.uns"
   ]
  },
  {
   "cell_type": "code",
   "execution_count": 136,
   "id": "d7a401af",
   "metadata": {},
   "outputs": [],
   "source": [
    "adata.obs['subclust_v6'] = df.obs.loc[:,'subclust_v6']"
   ]
  },
  {
   "cell_type": "code",
   "execution_count": 139,
   "id": "f4247eb6",
   "metadata": {},
   "outputs": [],
   "source": [
    "adata.obs['dpt_pseudotime'] = df.obs.loc[:,'dpt_pseudotime']"
   ]
  },
  {
   "cell_type": "code",
   "execution_count": null,
   "id": "3930cd9a",
   "metadata": {},
   "outputs": [],
   "source": []
  }
 ],
 "metadata": {
  "kernelspec": {
   "display_name": "Python [conda env:minimal_env] *",
   "language": "python",
   "name": "conda-env-minimal_env-py"
  },
  "language_info": {
   "codemirror_mode": {
    "name": "ipython",
    "version": 3
   },
   "file_extension": ".py",
   "mimetype": "text/x-python",
   "name": "python",
   "nbconvert_exporter": "python",
   "pygments_lexer": "ipython3",
   "version": "3.6.13"
  }
 },
 "nbformat": 4,
 "nbformat_minor": 5
}
