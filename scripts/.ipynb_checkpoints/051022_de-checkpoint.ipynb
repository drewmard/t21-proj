{
 "cells": [
  {
   "cell_type": "code",
   "execution_count": 37,
   "id": "b1854d36",
   "metadata": {},
   "outputs": [
    {
     "name": "stdout",
     "output_type": "stream",
     "text": [
      "Done.\n",
      "\n",
      " * Reading in data.../oak/stanford/groups/smontgom/amarder/t21-proj/out/subset/data/10X_Healthy_Liver.umap.subset.cells_removed.h5ad\n",
      "\n",
      " * Reading in data.../oak/stanford/groups/smontgom/amarder/t21-proj/out/subset/data/10X_DownSyndrome_Liver.umap.subset.cells_removed.h5ad\n",
      "Data read completed.\n",
      "\n",
      " * Cell type column name to use: leiden_v7\n",
      "\n",
      " * Cell type column name to use: leiden_v10\n"
     ]
    }
   ],
   "source": [
    "import os\n",
    "import scanpy as sc\n",
    "import pandas as pd\n",
    "import numpy as np\n",
    "\n",
    "print(\"Done.\")\n",
    "\n",
    "\n",
    "# In[1]:\n",
    "\n",
    "\n",
    "headdir=\"/oak/stanford/groups/smontgom/amarder/t21-proj\"\n",
    "sampletype=\"Liver\"\n",
    "suffix=\"subset\"\n",
    "# suffix=\"full\"\n",
    "\n",
    "# suffix=\"subset\"\n",
    "suffixDirec=\"\"\n",
    "if suffix==\"subset\":\n",
    "    suffixDirec=\"subset\"\n",
    "else:\n",
    "    suffixDirec=\"full\"\n",
    "os.system(\"mkdir -p \"+headdir + \"/out/\" + suffixDirec)\n",
    "\n",
    "def return_fileName(headdir,disease_status,sampletype,suffix):\n",
    "    foutpath=\"\"\n",
    "    if suffix==\"subset\":\n",
    "        fout=\"10X_\" + disease_status + \"_\" + sampletype + \".umap.subset.cells_removed.h5ad\"\n",
    "        foutpath=headdir + \"/out/subset/data/\" + fout\n",
    "    else:\n",
    "        fout=\"10X_\" + disease_status + \"_\" + sampletype + \".umap2d.cells_removed.h5ad\"\n",
    "        foutpath=\"/oak/stanford/groups/smontgom/amarder/t21-proj/out/full/data\" + \"/\" + fout\n",
    "    return foutpath\n",
    "\n",
    "foutpath=return_fileName(headdir,\"Healthy\",sampletype,suffix)\n",
    "print(\"\\n * Reading in data...\" + foutpath)\n",
    "adata=sc.read_h5ad(foutpath)\n",
    "\n",
    "foutpath=return_fileName(headdir,\"DownSyndrome\",sampletype,suffix)\n",
    "print(\"\\n * Reading in data...\" + foutpath)\n",
    "adata2=sc.read_h5ad(foutpath)\n",
    "\n",
    "# disease_status=\"DownSyndrome\"\n",
    "\n",
    "print(\"Data read completed.\")\n",
    "\n",
    "a=[columnName[8:] for columnName in adata.obs.columns if 'leiden_v' in columnName]\n",
    "colName1=\"leiden_v\" + str(max([int(x) for x in a if x.isdigit()]))\n",
    "print(\"\\n * Cell type column name to use: \" + colName1)\n",
    "adata.obs[\"leiden_names\"]=adata.obs[colName1]\n",
    "\n",
    "a=[columnName[8:] for columnName in adata2.obs.columns if 'leiden_v' in columnName]\n",
    "colName2=\"leiden_v\" + str(max([int(x) for x in a if x.isdigit()]))\n",
    "print(\"\\n * Cell type column name to use: \" + colName2)\n",
    "adata2.obs[\"leiden_names\"]=adata2.obs[colName2]\n",
    "\n",
    "adata=adata[:1000,]\n",
    "adata2=adata2[:1000,]"
   ]
  },
  {
   "cell_type": "code",
   "execution_count": 38,
   "id": "e3b96c9d",
   "metadata": {},
   "outputs": [],
   "source": [
    "adata.layers[\"X_norm\"] = sc.pp.normalize_total(adata,target_sum=1e6,inplace=False)[\"X\"]\n",
    "sc.pp.log1p(adata,layer=\"X_norm\",copy=False) # update in place"
   ]
  },
  {
   "cell_type": "code",
   "execution_count": null,
   "id": "7a564d10",
   "metadata": {},
   "outputs": [],
   "source": [
    "healthy_cells = np.unique(adata.obs[\"cell_type_groups\"])\n",
    "ds_cells = np.unique(adata2.obs[\"cell_type_groups\"])\n",
    "\n",
    "clusters_for_DE = [cell_type for cell_type in healthy_cells if cell_type in ds_cells]\n",
    "subDirec=\"DE_cell_type_groups\"\n",
    "os.system(\"mkdir -p \"+headdir + \"/out/\" + suffixDirec +\"/\" + subDirec)\n",
    "\n",
    "for cell_type in clusters_for_DE[:1]:\n",
    "\n",
    "    print(\"\\n * Running: \" + cell_type)\n",
    "    \n",
    "    ind=np.where(adata.obs[[\"cell_type_groups\"]]==cell_type)[0]\n",
    "    ind2=np.where(adata2.obs[[\"cell_type_groups\"]]==cell_type)[0]\n",
    "    adata4=adata[ind,].concatenate(adata2[ind2,]) #in cell_types_of_interest\n",
    "\n",
    "    \n",
    "    # ind=np.where(adata3.obs[[\"cell_type_groups\"]]==cell_type)[0]\n",
    "    # adata4=adata3[ind,] #in cell_types_of_interest\n",
    "    sc.tl.rank_genes_groups(adata4, 'environment', method='wilcoxon')\n",
    "\n",
    "    cell_type_filename = cell_type.replace(\"/\",\"_\")\n",
    "    filename_out=headdir + \"/out/\" + suffixDirec +\"/\" + subDirec + \"/\" + sampletype + \".\" + cell_type_filename + \".txt\"\n",
    "\n",
    "    sc.get.rank_genes_groups_df(adata4,group='Down Syndrome').to_csv(filename_out,na_rep='NA',index=False)\n",
    "\n",
    "print(\"\\n * Done.\")"
   ]
  }
 ],
 "metadata": {
  "kernelspec": {
   "display_name": "Python [conda env:minimal_env] *",
   "language": "python",
   "name": "conda-env-minimal_env-py"
  },
  "language_info": {
   "codemirror_mode": {
    "name": "ipython",
    "version": 3
   },
   "file_extension": ".py",
   "mimetype": "text/x-python",
   "name": "python",
   "nbconvert_exporter": "python",
   "pygments_lexer": "ipython3",
   "version": "3.6.13"
  }
 },
 "nbformat": 4,
 "nbformat_minor": 5
}
